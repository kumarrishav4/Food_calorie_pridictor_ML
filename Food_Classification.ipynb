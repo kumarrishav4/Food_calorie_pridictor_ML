{
  "cells": [
    {
      "cell_type": "code",
      "execution_count": 44,
      "metadata": {
        "execution": {
          "iopub.execute_input": "2023-01-07T06:23:15.909962Z",
          "iopub.status.busy": "2023-01-07T06:23:15.909556Z",
          "iopub.status.idle": "2023-01-07T06:23:15.917080Z",
          "shell.execute_reply": "2023-01-07T06:23:15.915996Z",
          "shell.execute_reply.started": "2023-01-07T06:23:15.909927Z"
        },
        "trusted": true,
        "id": "WzZ5StUrCsfW"
      },
      "outputs": [],
      "source": [
        "import pandas as pd\n",
        "import numpy as np\n",
        "import matplotlib.pyplot as plt\n",
        "import seaborn as sns\n",
        "from pathlib import Path\n",
        "import os.path\n",
        "import tensorflow as tf\n",
        "from sklearn.model_selection import train_test_split\n",
        "from sklearn.preprocessing import LabelEncoder"
      ]
    },
    {
      "cell_type": "markdown",
      "metadata": {
        "id": "wBiJebLICsfX"
      },
      "source": [
        "# Image Directory"
      ]
    },
    {
      "cell_type": "code",
      "execution_count": 45,
      "metadata": {
        "execution": {
          "iopub.execute_input": "2023-01-07T06:23:24.588177Z",
          "iopub.status.busy": "2023-01-07T06:23:24.587765Z",
          "iopub.status.idle": "2023-01-07T06:23:24.594280Z",
          "shell.execute_reply": "2023-01-07T06:23:24.593120Z",
          "shell.execute_reply.started": "2023-01-07T06:23:24.588144Z"
        },
        "trusted": true,
        "id": "6mV7ZS02CsfZ"
      },
      "outputs": [],
      "source": [
        "image_dir = Path('/Users/datascientist/Downloads/Food detction/Indian Food Images')"
      ]
    },
    {
      "cell_type": "code",
      "source": [
        "from google.colab import drive\n",
        "drive.mount('/content/drive')"
      ],
      "metadata": {
        "colab": {
          "base_uri": "https://localhost:8080/"
        },
        "id": "lCCQ68MjGcTN",
        "outputId": "b95b003d-432a-449c-eed2-be7e9353b8be"
      },
      "execution_count": 46,
      "outputs": [
        {
          "output_type": "stream",
          "name": "stdout",
          "text": [
            "Drive already mounted at /content/drive; to attempt to forcibly remount, call drive.mount(\"/content/drive\", force_remount=True).\n"
          ]
        }
      ]
    },
    {
      "cell_type": "code",
      "source": [
        "image_dir = Path('/content/drive/MyDrive/Food detction/Indian Food Images')\n"
      ],
      "metadata": {
        "id": "_XhRYBqEQmyi"
      },
      "execution_count": 47,
      "outputs": []
    },
    {
      "cell_type": "markdown",
      "metadata": {
        "id": "qXF3O3BdCsfZ"
      },
      "source": [
        "# Setting Filepath and Labels"
      ]
    },
    {
      "cell_type": "code",
      "execution_count": 48,
      "metadata": {
        "execution": {
          "iopub.execute_input": "2023-01-07T06:23:26.478825Z",
          "iopub.status.busy": "2023-01-07T06:23:26.478457Z",
          "iopub.status.idle": "2023-01-07T06:23:26.625753Z",
          "shell.execute_reply": "2023-01-07T06:23:26.624624Z",
          "shell.execute_reply.started": "2023-01-07T06:23:26.478794Z"
        },
        "trusted": true,
        "id": "YkzzaiygCsfZ"
      },
      "outputs": [],
      "source": [
        "# Check if the directory exists\n",
        "if not image_dir.exists():\n",
        "    raise FileNotFoundError(f\"The directory '{image_dir}' does not exist.\")\n",
        "\n",
        "# Get all jpg file paths\n",
        "filepath = list(image_dir.glob('**/*.jpg'))\n",
        "\n",
        "# Verify that file paths are found\n",
        "if not filepath:\n",
        "    raise ValueError(f\"No image files found in the directory '{image_dir}'.\")\n",
        "\n",
        "# Extract labels using a list comprehension\n",
        "label = [os.path.split(os.path.split(path)[0])[1] for path in filepath]"
      ]
    },
    {
      "cell_type": "markdown",
      "metadata": {
        "id": "aVzBzP_xCsfZ"
      },
      "source": [
        "# Converting it into image_df"
      ]
    },
    {
      "cell_type": "code",
      "execution_count": 49,
      "metadata": {
        "execution": {
          "iopub.execute_input": "2023-01-07T06:23:28.016034Z",
          "iopub.status.busy": "2023-01-07T06:23:28.015510Z",
          "iopub.status.idle": "2023-01-07T06:23:28.054447Z",
          "shell.execute_reply": "2023-01-07T06:23:28.053335Z",
          "shell.execute_reply.started": "2023-01-07T06:23:28.015987Z"
        },
        "trusted": true,
        "id": "327DKBNTCsfZ"
      },
      "outputs": [],
      "source": [
        "# Create a DataFrame\n",
        "image_df = pd.DataFrame({\n",
        "    'Filepath': filepath,\n",
        "    'Label': label\n",
        "})\n",
        "\n",
        "# Verify DataFrame content\n",
        "if image_df.empty:\n",
        "    raise ValueError(\"The DataFrame is empty. Check the image directory and labels.\")\n",
        "\n",
        "# Shuffle the DataFrame\n",
        "image_df = image_df.sample(frac=1.0, random_state=1).reset_index(drop=True)"
      ]
    },
    {
      "cell_type": "code",
      "execution_count": 50,
      "metadata": {
        "execution": {
          "iopub.execute_input": "2023-01-07T06:23:29.655218Z",
          "iopub.status.busy": "2023-01-07T06:23:29.654619Z",
          "iopub.status.idle": "2023-01-07T06:23:29.673014Z",
          "shell.execute_reply": "2023-01-07T06:23:29.671810Z",
          "shell.execute_reply.started": "2023-01-07T06:23:29.655174Z"
        },
        "trusted": true,
        "colab": {
          "base_uri": "https://localhost:8080/"
        },
        "id": "Mcu-3VDgCsfa",
        "outputId": "4d1569cb-3a6a-4001-d91c-4a5ce229169a"
      },
      "outputs": [
        {
          "output_type": "stream",
          "name": "stdout",
          "text": [
            "Number of unique labels: 80\n"
          ]
        }
      ],
      "source": [
        "print(f\"Number of unique labels: {image_df['Label'].nunique()}\")"
      ]
    },
    {
      "cell_type": "code",
      "execution_count": 51,
      "metadata": {
        "execution": {
          "iopub.execute_input": "2023-01-07T06:23:31.364662Z",
          "iopub.status.busy": "2023-01-07T06:23:31.364187Z",
          "iopub.status.idle": "2023-01-07T06:23:31.372580Z",
          "shell.execute_reply": "2023-01-07T06:23:31.371495Z",
          "shell.execute_reply.started": "2023-01-07T06:23:31.364619Z"
        },
        "trusted": true,
        "colab": {
          "base_uri": "https://localhost:8080/"
        },
        "id": "leWwA91YCsfa",
        "outputId": "bf8ef125-2559-4cb1-f299-8ebe488ca336"
      },
      "outputs": [
        {
          "output_type": "stream",
          "name": "stdout",
          "text": [
            "Shape of DataFrame: (4000, 2)\n"
          ]
        }
      ],
      "source": [
        "print(f\"Shape of DataFrame: {image_df.shape}\")"
      ]
    },
    {
      "cell_type": "markdown",
      "metadata": {
        "id": "cOcK0b4mCsfb"
      },
      "source": [
        "# Label encoding Food names"
      ]
    },
    {
      "cell_type": "code",
      "execution_count": 52,
      "metadata": {
        "execution": {
          "iopub.execute_input": "2023-01-07T06:25:32.245146Z",
          "iopub.status.busy": "2023-01-07T06:25:32.244728Z",
          "iopub.status.idle": "2023-01-07T06:25:32.257003Z",
          "shell.execute_reply": "2023-01-07T06:25:32.255843Z",
          "shell.execute_reply.started": "2023-01-07T06:25:32.245110Z"
        },
        "trusted": true,
        "colab": {
          "base_uri": "https://localhost:8080/"
        },
        "id": "Cqfirec-Csfb",
        "outputId": "96806724-9c8e-43c2-db57-77011069cf98"
      },
      "outputs": [
        {
          "output_type": "stream",
          "name": "stdout",
          "text": [
            "Label\n",
            "71    50\n",
            "20    50\n",
            "78    50\n",
            "29    50\n",
            "37    50\n",
            "      ..\n",
            "4     50\n",
            "25    50\n",
            "40    50\n",
            "0     50\n",
            "13    50\n",
            "Name: count, Length: 80, dtype: int64\n"
          ]
        }
      ],
      "source": [
        "# Encode the labels\n",
        "le = LabelEncoder()\n",
        "image_df['Label'] = le.fit_transform(image_df['Label'])\n",
        "\n",
        "# Display label distribution\n",
        "print(image_df['Label'].value_counts())"
      ]
    },
    {
      "cell_type": "markdown",
      "metadata": {
        "id": "wrts8IDFCsfb"
      },
      "source": [
        "# Image Data Generator"
      ]
    },
    {
      "cell_type": "markdown",
      "metadata": {
        "id": "JNRFKE-yCsfb"
      },
      "source": [
        "#### Creating train_test_split"
      ]
    },
    {
      "cell_type": "code",
      "execution_count": 53,
      "metadata": {
        "execution": {
          "iopub.execute_input": "2023-01-07T06:26:17.165775Z",
          "iopub.status.busy": "2023-01-07T06:26:17.165013Z",
          "iopub.status.idle": "2023-01-07T06:26:17.174809Z",
          "shell.execute_reply": "2023-01-07T06:26:17.173680Z",
          "shell.execute_reply.started": "2023-01-07T06:26:17.165735Z"
        },
        "trusted": true,
        "id": "NVLTzMyHCsfb"
      },
      "outputs": [],
      "source": [
        "train_df, test_df = train_test_split(image_df, test_size=0.3, shuffle=True, random_state=42)"
      ]
    },
    {
      "cell_type": "code",
      "execution_count": 54,
      "metadata": {
        "execution": {
          "iopub.execute_input": "2023-01-07T06:26:21.419327Z",
          "iopub.status.busy": "2023-01-07T06:26:21.418782Z",
          "iopub.status.idle": "2023-01-07T06:26:21.425496Z",
          "shell.execute_reply": "2023-01-07T06:26:21.423917Z",
          "shell.execute_reply.started": "2023-01-07T06:26:21.419290Z"
        },
        "trusted": true,
        "id": "Go8oF3EzCsfb"
      },
      "outputs": [],
      "source": [
        "train_gen = tf.keras.preprocessing.image.ImageDataGenerator(rescale = 1./255,validation_split = 0.2)\n",
        "test_gen = tf.keras.preprocessing.image.ImageDataGenerator(rescale = 1./255)"
      ]
    },
    {
      "cell_type": "code",
      "execution_count": 55,
      "metadata": {
        "id": "6ZSSk35kCsfb"
      },
      "outputs": [],
      "source": [
        "# Convert numeric labels to strings if needed\n",
        "train_df['Label'] = train_df['Label'].astype(str)\n",
        "test_df['Label'] = test_df['Label'].astype(str)"
      ]
    },
    {
      "cell_type": "code",
      "execution_count": 56,
      "metadata": {
        "execution": {
          "iopub.execute_input": "2023-01-07T06:04:35.154617Z",
          "iopub.status.busy": "2023-01-07T06:04:35.153890Z",
          "iopub.status.idle": "2023-01-07T06:04:37.028468Z",
          "shell.execute_reply": "2023-01-07T06:04:37.027257Z",
          "shell.execute_reply.started": "2023-01-07T06:04:35.154582Z"
        },
        "trusted": true,
        "colab": {
          "base_uri": "https://localhost:8080/"
        },
        "id": "9LmLBnzaCsfc",
        "outputId": "40c90989-9100-4536-9338-adf8aff78c2a"
      },
      "outputs": [
        {
          "output_type": "stream",
          "name": "stdout",
          "text": [
            "Found 2240 validated image filenames belonging to 80 classes.\n",
            "Found 560 validated image filenames belonging to 80 classes.\n",
            "Found 1200 validated image filenames belonging to 80 classes.\n"
          ]
        }
      ],
      "source": [
        "# Convert Filepath column to strings\n",
        "train_df['Filepath'] = train_df['Filepath'].astype(str)\n",
        "test_df['Filepath'] = test_df['Filepath'].astype(str)\n",
        "\n",
        "# Ensure file paths are valid\n",
        "train_df = train_df[train_df['Filepath'].apply(os.path.exists)]\n",
        "test_df = test_df[test_df['Filepath'].apply(os.path.exists)]\n",
        "\n",
        "# Check if the DataFrame is empty\n",
        "if train_df.empty or test_df.empty:\n",
        "    raise ValueError(\"No valid file paths found in the dataset. Please check the image directory.\")\n",
        "\n",
        "# Define the common parameters for the ImageDataGenerator\n",
        "common_params = {\n",
        "    'dataframe': train_df,\n",
        "    'x_col': 'Filepath',\n",
        "    'y_col': 'Label',\n",
        "    'target_size': (224, 224),\n",
        "    'batch_size': 32,\n",
        "    'color_mode': 'rgb',\n",
        "    'class_mode': 'categorical',\n",
        "    'shuffle': True,\n",
        "    'seed': 42\n",
        "}\n",
        "\n",
        "# Create train and validation generators from the same training dataframe\n",
        "train_image = train_gen.flow_from_dataframe(**common_params, subset='training')\n",
        "val_image = train_gen.flow_from_dataframe(**common_params, subset='validation')\n",
        "\n",
        "# Create test generator from the test dataframe\n",
        "test_image = test_gen.flow_from_dataframe(\n",
        "    dataframe=test_df,\n",
        "    x_col='Filepath',\n",
        "    y_col='Label',\n",
        "    target_size=(224, 224),\n",
        "    batch_size=32,\n",
        "    color_mode='rgb',\n",
        "    class_mode='categorical',\n",
        "    shuffle=False\n",
        ")\n"
      ]
    },
    {
      "cell_type": "markdown",
      "metadata": {
        "id": "w5PaLSJJCsfc"
      },
      "source": [
        "# Training"
      ]
    },
    {
      "cell_type": "code",
      "execution_count": 57,
      "metadata": {
        "execution": {
          "iopub.execute_input": "2023-01-07T06:28:17.320160Z",
          "iopub.status.busy": "2023-01-07T06:28:17.319762Z",
          "iopub.status.idle": "2023-01-07T06:33:05.020360Z",
          "shell.execute_reply": "2023-01-07T06:33:05.019258Z",
          "shell.execute_reply.started": "2023-01-07T06:28:17.320125Z"
        },
        "trusted": true,
        "colab": {
          "base_uri": "https://localhost:8080/"
        },
        "id": "bz6N-A7ICsfc",
        "outputId": "9908fcef-1ecd-405e-fd42-b4c02e640885"
      },
      "outputs": [
        {
          "output_type": "stream",
          "name": "stdout",
          "text": [
            "Epoch 1/5\n"
          ]
        },
        {
          "output_type": "stream",
          "name": "stderr",
          "text": [
            "/usr/local/lib/python3.10/dist-packages/keras/src/trainers/data_adapters/py_dataset_adapter.py:122: UserWarning: Your `PyDataset` class should call `super().__init__(**kwargs)` in its constructor. `**kwargs` can include `workers`, `use_multiprocessing`, `max_queue_size`. Do not pass these arguments to `fit()`, as they will be ignored.\n",
            "  self._warn_if_super_not_called()\n"
          ]
        },
        {
          "output_type": "stream",
          "name": "stdout",
          "text": [
            "\u001b[1m70/70\u001b[0m \u001b[32m━━━━━━━━━━━━━━━━━━━━\u001b[0m\u001b[37m\u001b[0m \u001b[1m125s\u001b[0m 2s/step - accuracy: 0.9875 - loss: 0.0128 - val_accuracy: 0.9875 - val_loss: 0.0123\n",
            "Epoch 2/5\n",
            "\u001b[1m70/70\u001b[0m \u001b[32m━━━━━━━━━━━━━━━━━━━━\u001b[0m\u001b[37m\u001b[0m \u001b[1m135s\u001b[0m 2s/step - accuracy: 0.9875 - loss: 0.0123 - val_accuracy: 0.9875 - val_loss: 0.0123\n",
            "Epoch 3/5\n",
            "\u001b[1m70/70\u001b[0m \u001b[32m━━━━━━━━━━━━━━━━━━━━\u001b[0m\u001b[37m\u001b[0m \u001b[1m117s\u001b[0m 2s/step - accuracy: 0.9875 - loss: 0.0123 - val_accuracy: 0.9875 - val_loss: 0.0123\n",
            "Epoch 4/5\n",
            "\u001b[1m70/70\u001b[0m \u001b[32m━━━━━━━━━━━━━━━━━━━━\u001b[0m\u001b[37m\u001b[0m \u001b[1m144s\u001b[0m 2s/step - accuracy: 0.9875 - loss: 0.0123 - val_accuracy: 0.9875 - val_loss: 0.0123\n",
            "Epoch 5/5\n",
            "\u001b[1m70/70\u001b[0m \u001b[32m━━━━━━━━━━━━━━━━━━━━\u001b[0m\u001b[37m\u001b[0m \u001b[1m119s\u001b[0m 2s/step - accuracy: 0.9875 - loss: 0.0123 - val_accuracy: 0.9875 - val_loss: 0.0123\n"
          ]
        }
      ],
      "source": [
        "# Define the model architecture\n",
        "def create_model(input_shape=(224, 224, 3), num_classes=1):\n",
        "    inputs = tf.keras.Input(shape=input_shape)\n",
        "\n",
        "    # Convolutional and pooling layers\n",
        "    x = tf.keras.layers.Conv2D(filters=16, kernel_size=(3, 3), activation='relu')(inputs)\n",
        "    x = tf.keras.layers.MaxPool2D()(x)\n",
        "    x = tf.keras.layers.Conv2D(filters=32, kernel_size=(3, 3), activation='relu')(x)\n",
        "    x = tf.keras.layers.MaxPool2D()(x)\n",
        "\n",
        "    # Global pooling layer\n",
        "    x = tf.keras.layers.GlobalAveragePooling2D()(x)\n",
        "\n",
        "    # Dense layers\n",
        "    x = tf.keras.layers.Dense(64, activation='relu')(x)\n",
        "    x = tf.keras.layers.Dense(64, activation='relu')(x)\n",
        "\n",
        "    # Output layer\n",
        "    outputs = tf.keras.layers.Dense(num_classes, activation='linear')(x)\n",
        "\n",
        "    # Create the model\n",
        "    model = tf.keras.Model(inputs=inputs, outputs=outputs)\n",
        "\n",
        "    return model\n",
        "\n",
        "# Create an instance of the model\n",
        "model = create_model(input_shape=(224, 224, 3), num_classes=1)\n",
        "\n",
        "# Compile the model\n",
        "model.compile(optimizer='adam',\n",
        "              loss='mse',\n",
        "              metrics=['accuracy'])\n",
        "\n",
        "# Define early stopping callback\n",
        "early_stopping = tf.keras.callbacks.EarlyStopping(\n",
        "    monitor='val_loss',\n",
        "    patience=5,\n",
        "    restore_best_weights=True\n",
        ")\n",
        "\n",
        "# Train the model\n",
        "history = model.fit(\n",
        "    train_image,\n",
        "    validation_data=val_image,\n",
        "    epochs=5,\n",
        "    callbacks=[early_stopping])"
      ]
    },
    {
      "cell_type": "markdown",
      "metadata": {
        "id": "mEi9U1V6Csfc"
      },
      "source": [
        "Results"
      ]
    },
    {
      "cell_type": "code",
      "execution_count": 58,
      "metadata": {
        "execution": {
          "iopub.execute_input": "2023-01-07T06:40:20.145231Z",
          "iopub.status.busy": "2023-01-07T06:40:20.144816Z",
          "iopub.status.idle": "2023-01-07T06:40:33.751876Z",
          "shell.execute_reply": "2023-01-07T06:40:33.750730Z",
          "shell.execute_reply.started": "2023-01-07T06:40:20.145194Z"
        },
        "trusted": true,
        "colab": {
          "base_uri": "https://localhost:8080/"
        },
        "id": "Sh-vB0bFCsfc",
        "outputId": "ad6f0800-d6e1-45f2-e0a1-92033c7cd5f7"
      },
      "outputs": [
        {
          "output_type": "stream",
          "name": "stdout",
          "text": [
            "Test Loss: 0.012\n",
            "Test Accuracy: 98.750%\n"
          ]
        }
      ],
      "source": [
        "# Evaluate the model on the test set\n",
        "test_loss, test_accuracy = model.evaluate(test_image, verbose=0)\n",
        "\n",
        "# Print the results with formatted strings\n",
        "print(f'Test Loss: {test_loss:.3f}')\n",
        "print(f'Test Accuracy: {test_accuracy * 100:.3f}%')\n"
      ]
    },
    {
      "cell_type": "markdown",
      "metadata": {
        "id": "feS_0XcNCsfc"
      },
      "source": [
        "# Plotting Training and Validation (Loss & Accuracy)"
      ]
    },
    {
      "cell_type": "code",
      "execution_count": 59,
      "metadata": {
        "execution": {
          "iopub.execute_input": "2023-01-07T06:51:57.240029Z",
          "iopub.status.busy": "2023-01-07T06:51:57.239637Z",
          "iopub.status.idle": "2023-01-07T06:51:57.621642Z",
          "shell.execute_reply": "2023-01-07T06:51:57.620186Z",
          "shell.execute_reply.started": "2023-01-07T06:51:57.239995Z"
        },
        "trusted": true,
        "colab": {
          "base_uri": "https://localhost:8080/",
          "height": 419
        },
        "id": "KIsrtuMSCsfc",
        "outputId": "1b1f987b-dc83-407d-c621-5d805492cde8"
      },
      "outputs": [
        {
          "output_type": "display_data",
          "data": {
            "text/plain": [
              "<Figure size 1500x600 with 2 Axes>"
            ],
            "image/png": "[encoded data removed]"
          },
          "metadata": {}
        }
      ],
      "source": [
        "# Define the number of epochs for plotting\n",
        "epochs = range(len(history.history['accuracy']))\n",
        "\n",
        "# Create a figure with appropriate size\n",
        "plt.figure(figsize=(15, 6))\n",
        "\n",
        "# Plot Training and Validation Accuracy\n",
        "plt.subplot(1, 2, 1)  # 1 row, 2 columns, plot 1\n",
        "plt.plot(epochs, history.history['accuracy'], label='Training Accuracy')\n",
        "plt.plot(epochs, history.history['val_accuracy'], label='Validation Accuracy')\n",
        "plt.title('Training vs Validation Accuracy')\n",
        "plt.xlabel('Epochs')\n",
        "plt.ylabel('Accuracy')\n",
        "plt.legend(loc='lower right')\n",
        "\n",
        "# Plot Training and Validation Loss\n",
        "plt.subplot(1, 2, 2)  # 1 row, 2 columns, plot 2\n",
        "plt.plot(epochs, history.history['loss'], label='Training Loss')\n",
        "plt.plot(epochs, history.history['val_loss'], label='Validation Loss')\n",
        "plt.title('Training vs Validation Loss')\n",
        "plt.xlabel('Epochs')\n",
        "plt.ylabel('Loss')\n",
        "plt.legend(loc='upper right')\n",
        "\n",
        "# Display the plots\n",
        "plt.tight_layout()  # Adjust subplots to fit into the figure area\n",
        "plt.show()"
      ]
    },
    {
      "cell_type": "markdown",
      "metadata": {
        "id": "9ArXqFDsCsfd"
      },
      "source": [
        "#MLP MODEL"
      ]
    },
    {
      "cell_type": "code",
      "execution_count": 60,
      "metadata": {
        "colab": {
          "base_uri": "https://localhost:8080/",
          "height": 397
        },
        "id": "JPXzsf_vCsfd",
        "outputId": "8a925ba0-dc2e-4855-f659-fe0b1a5fc252"
      },
      "outputs": [
        {
          "output_type": "display_data",
          "data": {
            "text/plain": [
              "\u001b[1mModel: \"functional_3\"\u001b[0m\n"
            ],
            "text/html": [
              "<pre style=\"white-space:pre;overflow-x:auto;line-height:normal;font-family:Menlo,'DejaVu Sans Mono',consolas,'Courier New',monospace\"><span style=\"font-weight: bold\">Model: \"functional_3\"</span>\n",
              "</pre>\n"
            ]
          },
          "metadata": {}
        },
        {
          "output_type": "display_data",
          "data": {
            "text/plain": [
              "┏━━━━━━━━━━━━━━━━━━━━━━━━━━━━━━━━━━━━━━┳━━━━━━━━━━━━━━━━━━━━━━━━━━━━━┳━━━━━━━━━━━━━━━━━┓\n",
              "┃\u001b[1m \u001b[0m\u001b[1mLayer (type)                        \u001b[0m\u001b[1m \u001b[0m┃\u001b[1m \u001b[0m\u001b[1mOutput Shape               \u001b[0m\u001b[1m \u001b[0m┃\u001b[1m \u001b[0m\u001b[1m        Param #\u001b[0m\u001b[1m \u001b[0m┃\n",
              "┡━━━━━━━━━━━━━━━━━━━━━━━━━━━━━━━━━━━━━━╇━━━━━━━━━━━━━━━━━━━━━━━━━━━━━╇━━━━━━━━━━━━━━━━━┩\n",
              "│ input_layer_3 (\u001b[38;5;33mInputLayer\u001b[0m)           │ (\u001b[38;5;45mNone\u001b[0m, \u001b[38;5;34m224\u001b[0m, \u001b[38;5;34m224\u001b[0m, \u001b[38;5;34m3\u001b[0m)         │               \u001b[38;5;34m0\u001b[0m │\n",
              "├──────────────────────────────────────┼─────────────────────────────┼─────────────────┤\n",
              "│ flatten_1 (\u001b[38;5;33mFlatten\u001b[0m)                  │ (\u001b[38;5;45mNone\u001b[0m, \u001b[38;5;34m150528\u001b[0m)              │               \u001b[38;5;34m0\u001b[0m │\n",
              "├──────────────────────────────────────┼─────────────────────────────┼─────────────────┤\n",
              "│ dense_10 (\u001b[38;5;33mDense\u001b[0m)                     │ (\u001b[38;5;45mNone\u001b[0m, \u001b[38;5;34m128\u001b[0m)                 │      \u001b[38;5;34m19,267,712\u001b[0m │\n",
              "├──────────────────────────────────────┼─────────────────────────────┼─────────────────┤\n",
              "│ dropout_2 (\u001b[38;5;33mDropout\u001b[0m)                  │ (\u001b[38;5;45mNone\u001b[0m, \u001b[38;5;34m128\u001b[0m)                 │               \u001b[38;5;34m0\u001b[0m │\n",
              "├──────────────────────────────────────┼─────────────────────────────┼─────────────────┤\n",
              "│ dense_11 (\u001b[38;5;33mDense\u001b[0m)                     │ (\u001b[38;5;45mNone\u001b[0m, \u001b[38;5;34m64\u001b[0m)                  │           \u001b[38;5;34m8,256\u001b[0m │\n",
              "├──────────────────────────────────────┼─────────────────────────────┼─────────────────┤\n",
              "│ dropout_3 (\u001b[38;5;33mDropout\u001b[0m)                  │ (\u001b[38;5;45mNone\u001b[0m, \u001b[38;5;34m64\u001b[0m)                  │               \u001b[38;5;34m0\u001b[0m │\n",
              "├──────────────────────────────────────┼─────────────────────────────┼─────────────────┤\n",
              "│ dense_12 (\u001b[38;5;33mDense\u001b[0m)                     │ (\u001b[38;5;45mNone\u001b[0m, \u001b[38;5;34m32\u001b[0m)                  │           \u001b[38;5;34m2,080\u001b[0m │\n",
              "├──────────────────────────────────────┼─────────────────────────────┼─────────────────┤\n",
              "│ dense_13 (\u001b[38;5;33mDense\u001b[0m)                     │ (\u001b[38;5;45mNone\u001b[0m, \u001b[38;5;34m80\u001b[0m)                  │           \u001b[38;5;34m2,640\u001b[0m │\n",
              "└──────────────────────────────────────┴─────────────────────────────┴─────────────────┘\n"
            ],
            "text/html": [
              "<pre style=\"white-space:pre;overflow-x:auto;line-height:normal;font-family:Menlo,'DejaVu Sans Mono',consolas,'Courier New',monospace\">┏━━━━━━━━━━━━━━━━━━━━━━━━━━━━━━━━━━━━━━┳━━━━━━━━━━━━━━━━━━━━━━━━━━━━━┳━━━━━━━━━━━━━━━━━┓\n",
              "┃<span style=\"font-weight: bold\"> Layer (type)                         </span>┃<span style=\"font-weight: bold\"> Output Shape                </span>┃<span style=\"font-weight: bold\">         Param # </span>┃\n",
              "┡━━━━━━━━━━━━━━━━━━━━━━━━━━━━━━━━━━━━━━╇━━━━━━━━━━━━━━━━━━━━━━━━━━━━━╇━━━━━━━━━━━━━━━━━┩\n",
              "│ input_layer_3 (<span style=\"color: #0087ff; text-decoration-color: #0087ff\">InputLayer</span>)           │ (<span style=\"color: #00d7ff; text-decoration-color: #00d7ff\">None</span>, <span style=\"color: #00af00; text-decoration-color: #00af00\">224</span>, <span style=\"color: #00af00; text-decoration-color: #00af00\">224</span>, <span style=\"color: #00af00; text-decoration-color: #00af00\">3</span>)         │               <span style=\"color: #00af00; text-decoration-color: #00af00\">0</span> │\n",
              "├──────────────────────────────────────┼─────────────────────────────┼─────────────────┤\n",
              "│ flatten_1 (<span style=\"color: #0087ff; text-decoration-color: #0087ff\">Flatten</span>)                  │ (<span style=\"color: #00d7ff; text-decoration-color: #00d7ff\">None</span>, <span style=\"color: #00af00; text-decoration-color: #00af00\">150528</span>)              │               <span style=\"color: #00af00; text-decoration-color: #00af00\">0</span> │\n",
              "├──────────────────────────────────────┼─────────────────────────────┼─────────────────┤\n",
              "│ dense_10 (<span style=\"color: #0087ff; text-decoration-color: #0087ff\">Dense</span>)                     │ (<span style=\"color: #00d7ff; text-decoration-color: #00d7ff\">None</span>, <span style=\"color: #00af00; text-decoration-color: #00af00\">128</span>)                 │      <span style=\"color: #00af00; text-decoration-color: #00af00\">19,267,712</span> │\n",
              "├──────────────────────────────────────┼─────────────────────────────┼─────────────────┤\n",
              "│ dropout_2 (<span style=\"color: #0087ff; text-decoration-color: #0087ff\">Dropout</span>)                  │ (<span style=\"color: #00d7ff; text-decoration-color: #00d7ff\">None</span>, <span style=\"color: #00af00; text-decoration-color: #00af00\">128</span>)                 │               <span style=\"color: #00af00; text-decoration-color: #00af00\">0</span> │\n",
              "├──────────────────────────────────────┼─────────────────────────────┼─────────────────┤\n",
              "│ dense_11 (<span style=\"color: #0087ff; text-decoration-color: #0087ff\">Dense</span>)                     │ (<span style=\"color: #00d7ff; text-decoration-color: #00d7ff\">None</span>, <span style=\"color: #00af00; text-decoration-color: #00af00\">64</span>)                  │           <span style=\"color: #00af00; text-decoration-color: #00af00\">8,256</span> │\n",
              "├──────────────────────────────────────┼─────────────────────────────┼─────────────────┤\n",
              "│ dropout_3 (<span style=\"color: #0087ff; text-decoration-color: #0087ff\">Dropout</span>)                  │ (<span style=\"color: #00d7ff; text-decoration-color: #00d7ff\">None</span>, <span style=\"color: #00af00; text-decoration-color: #00af00\">64</span>)                  │               <span style=\"color: #00af00; text-decoration-color: #00af00\">0</span> │\n",
              "├──────────────────────────────────────┼─────────────────────────────┼─────────────────┤\n",
              "│ dense_12 (<span style=\"color: #0087ff; text-decoration-color: #0087ff\">Dense</span>)                     │ (<span style=\"color: #00d7ff; text-decoration-color: #00d7ff\">None</span>, <span style=\"color: #00af00; text-decoration-color: #00af00\">32</span>)                  │           <span style=\"color: #00af00; text-decoration-color: #00af00\">2,080</span> │\n",
              "├──────────────────────────────────────┼─────────────────────────────┼─────────────────┤\n",
              "│ dense_13 (<span style=\"color: #0087ff; text-decoration-color: #0087ff\">Dense</span>)                     │ (<span style=\"color: #00d7ff; text-decoration-color: #00d7ff\">None</span>, <span style=\"color: #00af00; text-decoration-color: #00af00\">80</span>)                  │           <span style=\"color: #00af00; text-decoration-color: #00af00\">2,640</span> │\n",
              "└──────────────────────────────────────┴─────────────────────────────┴─────────────────┘\n",
              "</pre>\n"
            ]
          },
          "metadata": {}
        },
        {
          "output_type": "display_data",
          "data": {
            "text/plain": [
              "\u001b[1m Total params: \u001b[0m\u001b[38;5;34m19,280,688\u001b[0m (73.55 MB)\n"
            ],
            "text/html": [
              "<pre style=\"white-space:pre;overflow-x:auto;line-height:normal;font-family:Menlo,'DejaVu Sans Mono',consolas,'Courier New',monospace\"><span style=\"font-weight: bold\"> Total params: </span><span style=\"color: #00af00; text-decoration-color: #00af00\">19,280,688</span> (73.55 MB)\n",
              "</pre>\n"
            ]
          },
          "metadata": {}
        },
        {
          "output_type": "display_data",
          "data": {
            "text/plain": [
              "\u001b[1m Trainable params: \u001b[0m\u001b[38;5;34m19,280,688\u001b[0m (73.55 MB)\n"
            ],
            "text/html": [
              "<pre style=\"white-space:pre;overflow-x:auto;line-height:normal;font-family:Menlo,'DejaVu Sans Mono',consolas,'Courier New',monospace\"><span style=\"font-weight: bold\"> Trainable params: </span><span style=\"color: #00af00; text-decoration-color: #00af00\">19,280,688</span> (73.55 MB)\n",
              "</pre>\n"
            ]
          },
          "metadata": {}
        },
        {
          "output_type": "display_data",
          "data": {
            "text/plain": [
              "\u001b[1m Non-trainable params: \u001b[0m\u001b[38;5;34m0\u001b[0m (0.00 B)\n"
            ],
            "text/html": [
              "<pre style=\"white-space:pre;overflow-x:auto;line-height:normal;font-family:Menlo,'DejaVu Sans Mono',consolas,'Courier New',monospace\"><span style=\"font-weight: bold\"> Non-trainable params: </span><span style=\"color: #00af00; text-decoration-color: #00af00\">0</span> (0.00 B)\n",
              "</pre>\n"
            ]
          },
          "metadata": {}
        }
      ],
      "source": [
        "# Updated MLP Model\n",
        "mlp_inputs = tf.keras.Input(shape=(224, 224, 3))\n",
        "x = tf.keras.layers.Flatten()(mlp_inputs)  # Apply Flatten layer\n",
        "x = tf.keras.layers.Dense(128, activation='relu')(x)\n",
        "x = tf.keras.layers.Dropout(0.2)(x)\n",
        "x = tf.keras.layers.Dense(64, activation='relu')(x)\n",
        "x = tf.keras.layers.Dropout(0.2)(x)\n",
        "x = tf.keras.layers.Dense(32, activation='relu')(x)\n",
        "mlp_outputs = tf.keras.layers.Dense(len(le.classes_), activation='softmax')(x)  # Output layer with softmax\n",
        "\n",
        "mlp_model = tf.keras.Model(inputs=mlp_inputs, outputs=mlp_outputs)\n",
        "mlp_model.compile(optimizer='adam', loss='categorical_crossentropy', metrics=['accuracy'])\n",
        "\n",
        "mlp_model.summary()\n"
      ]
    },
    {
      "cell_type": "code",
      "execution_count": 61,
      "metadata": {
        "colab": {
          "base_uri": "https://localhost:8080/"
        },
        "id": "cOddrVT1Csfd",
        "outputId": "81a12cb8-5e79-4f1a-d1d1-facb618d19ac"
      },
      "outputs": [
        {
          "output_type": "stream",
          "name": "stdout",
          "text": [
            "{0: 1.0, 1: 1.0, 2: 1.0, 3: 1.0, 4: 1.0, 5: 1.0, 6: 1.0, 7: 1.0, 8: 1.0, 9: 1.0, 10: 1.0, 11: 1.0, 12: 1.0, 13: 1.0, 14: 1.0, 15: 1.0, 16: 1.0, 17: 1.0, 18: 1.0, 19: 1.0, 20: 1.0, 21: 1.0, 22: 1.0, 23: 1.0, 24: 1.0, 25: 1.0, 26: 1.0, 27: 1.0, 28: 1.0, 29: 1.0, 30: 1.0, 31: 1.0, 32: 1.0, 33: 1.0, 34: 1.0, 35: 1.0, 36: 1.0, 37: 1.0, 38: 1.0, 39: 1.0, 40: 1.0, 41: 1.0, 42: 1.0, 43: 1.0, 44: 1.0, 45: 1.0, 46: 1.0, 47: 1.0, 48: 1.0, 49: 1.0, 50: 1.0, 51: 1.0, 52: 1.0, 53: 1.0, 54: 1.0, 55: 1.0, 56: 1.0, 57: 1.0, 58: 1.0, 59: 1.0, 60: 1.0, 61: 1.0, 62: 1.0, 63: 1.0, 64: 1.0, 65: 1.0, 66: 1.0, 67: 1.0, 68: 1.0, 69: 1.0, 70: 1.0, 71: 1.0, 72: 1.0, 73: 1.0, 74: 1.0, 75: 1.0, 76: 1.0, 77: 1.0, 78: 1.0, 79: 1.0}\n",
            "Epoch 1/10\n",
            "\u001b[1m70/70\u001b[0m \u001b[32m━━━━━━━━━━━━━━━━━━━━\u001b[0m\u001b[37m\u001b[0m \u001b[1m55s\u001b[0m 732ms/step - accuracy: 0.0074 - loss: 14.4811 - val_accuracy: 0.0071 - val_loss: 4.3831\n",
            "Epoch 2/10\n",
            "\u001b[1m70/70\u001b[0m \u001b[32m━━━━━━━━━━━━━━━━━━━━\u001b[0m\u001b[37m\u001b[0m \u001b[1m53s\u001b[0m 699ms/step - accuracy: 0.0078 - loss: 4.3818 - val_accuracy: 0.0071 - val_loss: 4.3839\n",
            "Epoch 3/10\n",
            "\u001b[1m70/70\u001b[0m \u001b[32m━━━━━━━━━━━━━━━━━━━━\u001b[0m\u001b[37m\u001b[0m \u001b[1m58s\u001b[0m 800ms/step - accuracy: 0.0161 - loss: 4.3813 - val_accuracy: 0.0071 - val_loss: 4.3845\n",
            "Epoch 4/10\n",
            "\u001b[1m70/70\u001b[0m \u001b[32m━━━━━━━━━━━━━━━━━━━━\u001b[0m\u001b[37m\u001b[0m \u001b[1m75s\u001b[0m 702ms/step - accuracy: 0.0136 - loss: 4.3811 - val_accuracy: 0.0071 - val_loss: 4.3853\n",
            "Epoch 5/10\n",
            "\u001b[1m70/70\u001b[0m \u001b[32m━━━━━━━━━━━━━━━━━━━━\u001b[0m\u001b[37m\u001b[0m \u001b[1m81s\u001b[0m 680ms/step - accuracy: 0.0161 - loss: 4.3806 - val_accuracy: 0.0071 - val_loss: 4.3859\n",
            "Epoch 6/10\n",
            "\u001b[1m70/70\u001b[0m \u001b[32m━━━━━━━━━━━━━━━━━━━━\u001b[0m\u001b[37m\u001b[0m \u001b[1m54s\u001b[0m 745ms/step - accuracy: 0.0176 - loss: 4.3800 - val_accuracy: 0.0071 - val_loss: 4.3867\n"
          ]
        }
      ],
      "source": [
        "from sklearn.utils.class_weight import compute_class_weight\n",
        "\n",
        "class_weights = compute_class_weight(\n",
        "    class_weight='balanced',\n",
        "    classes=np.unique(image_df['Label']),\n",
        "    y=image_df['Label']\n",
        ")\n",
        "class_weights_dict = dict(enumerate(class_weights))\n",
        "print(class_weights_dict)\n",
        "\n",
        "# Train the updated model\n",
        "history_mlp = mlp_model.fit(\n",
        "    train_image,\n",
        "    validation_data=val_image,\n",
        "    epochs=10,\n",
        "    class_weight=class_weights_dict,\n",
        "    callbacks=[tf.keras.callbacks.EarlyStopping(monitor='val_loss', patience=5, restore_best_weights=True)]\n",
        ")"
      ]
    },
    {
      "cell_type": "code",
      "execution_count": 62,
      "metadata": {
        "colab": {
          "base_uri": "https://localhost:8080/"
        },
        "id": "wbFXb4l6Csfd",
        "outputId": "3480d072-d276-42f0-d6ed-09ae36e557af"
      },
      "outputs": [
        {
          "output_type": "stream",
          "name": "stdout",
          "text": [
            "Test Loss : 4.382\n",
            "Test Accuracy : 1.000%\n"
          ]
        }
      ],
      "source": [
        "result = mlp_model.evaluate(test_image, verbose = 0)\n",
        "print('Test Loss : {:.3f}'.format(result[0]))\n",
        "print('Test Accuracy : {:.3f}%'.format(result[1]*100))"
      ]
    },
    {
      "cell_type": "code",
      "execution_count": 63,
      "metadata": {
        "colab": {
          "base_uri": "https://localhost:8080/",
          "height": 542
        },
        "id": "-VsOtqC1Csfd",
        "outputId": "9cc94408-e63c-4c9a-bf1d-43fcba629277"
      },
      "outputs": [
        {
          "output_type": "display_data",
          "data": {
            "text/plain": [
              "<Figure size 2000x2000 with 2 Axes>"
            ],
            "image/png": "[encoded data removed]"
          },
          "metadata": {}
        }
      ],
      "source": [
        "# Determine the actual number of epochs from the history object\n",
        "epochs = range(len(history_mlp.history['accuracy']))\n",
        "\n",
        "plt.figure(figsize=(20, 20))\n",
        "\n",
        "# Plot Training and Validation Accuracy\n",
        "plt.subplot(2, 2, 1)\n",
        "plt.plot(epochs, history_mlp.history['accuracy'], label='Training Accuracy')\n",
        "plt.plot(epochs, history_mlp.history['val_accuracy'], label='Validation Accuracy')\n",
        "plt.title('Training Accuracy vs Validation Accuracy')\n",
        "plt.xlabel('Epochs')\n",
        "plt.ylabel('Accuracy')\n",
        "plt.legend(loc='lower right')\n",
        "\n",
        "# Plot Training and Validation Loss\n",
        "plt.subplot(2, 2, 2)\n",
        "plt.plot(epochs, history_mlp.history['loss'], label='Training Loss')\n",
        "plt.plot(epochs, history_mlp.history['val_loss'], label='Validation Loss')\n",
        "plt.title('Training Loss vs Validation Loss')\n",
        "plt.xlabel('Epochs')\n",
        "plt.ylabel('Loss')\n",
        "plt.legend(loc='upper right')\n",
        "\n",
        "plt.tight_layout()\n",
        "plt.show()\n"
      ]
    },
    {
      "cell_type": "code",
      "execution_count": 64,
      "metadata": {
        "colab": {
          "base_uri": "https://localhost:8080/"
        },
        "id": "Y2iximmXCsfd",
        "outputId": "7cc8361c-b94b-4f01-bbfd-be8c19c08aba"
      },
      "outputs": [
        {
          "output_type": "stream",
          "name": "stdout",
          "text": [
            "LabelEncoder saved successfully.\n"
          ]
        }
      ],
      "source": [
        "import pickle\n",
        "\n",
        "# Save the LabelEncoder to a file\n",
        "with open(\"label_encoder.pkl\", \"wb\") as file:\n",
        "    pickle.dump(le, file)\n",
        "print(\"LabelEncoder saved successfully.\")\n"
      ]
    },
    {
      "cell_type": "code",
      "execution_count": 65,
      "metadata": {
        "colab": {
          "base_uri": "https://localhost:8080/"
        },
        "id": "OVzilkyCCsfe",
        "outputId": "8490e227-7dfb-4486-9f61-1e78945ffde0"
      },
      "outputs": [
        {
          "output_type": "stream",
          "name": "stderr",
          "text": [
            "WARNING:absl:You are saving your model as an HDF5 file via `model.save()` or `keras.saving.save_model(model)`. This file format is considered legacy. We recommend using instead the native Keras format, e.g. `model.save('my_model.keras')` or `keras.saving.save_model(model, 'my_model.keras')`. \n"
          ]
        },
        {
          "output_type": "stream",
          "name": "stdout",
          "text": [
            "Model saved successfully.\n"
          ]
        }
      ],
      "source": [
        "mlp_model.save(\"mlp_model.h5\")\n",
        "print(\"Model saved successfully.\")\n"
      ]
    },
    {
      "cell_type": "code",
      "execution_count": 66,
      "metadata": {
        "colab": {
          "base_uri": "https://localhost:8080/"
        },
        "id": "SYjUBf74Csfe",
        "outputId": "20cee6c2-b472-402f-efb5-0d19018142f9"
      },
      "outputs": [
        {
          "output_type": "stream",
          "name": "stderr",
          "text": [
            "WARNING:tensorflow:5 out of the last 5 calls to <function TensorFlowTrainer.make_predict_function.<locals>.one_step_on_data_distributed at 0x7f9f72d0e440> triggered tf.function retracing. Tracing is expensive and the excessive number of tracings could be due to (1) creating @tf.function repeatedly in a loop, (2) passing tensors with different shapes, (3) passing Python objects instead of tensors. For (1), please define your @tf.function outside of the loop. For (2), @tf.function has reduce_retracing=True option that can avoid unnecessary retracing. For (3), please refer to https://www.tensorflow.org/guide/function#controlling_retracing and https://www.tensorflow.org/api_docs/python/tf/function for  more details.\n"
          ]
        },
        {
          "output_type": "stream",
          "name": "stdout",
          "text": [
            "Model loaded successfully.\n",
            "LabelEncoder loaded successfully.\n",
            "\u001b[1m1/1\u001b[0m \u001b[32m━━━━━━━━━━━━━━━━━━━━\u001b[0m\u001b[37m\u001b[0m \u001b[1m0s\u001b[0m 71ms/step\n",
            "Predicted Class Index: 60\n",
            "Predicted Class: palak_paneer\n"
          ]
        }
      ],
      "source": [
        "import numpy as np\n",
        "import tensorflow as tf\n",
        "from tensorflow.keras.models import load_model\n",
        "import pickle\n",
        "from tensorflow.keras.preprocessing.image import load_img, img_to_array\n",
        "\n",
        "# Load the saved food detection model\n",
        "try:\n",
        "    model = load_model(\"mlp_model.h5\", compile=False)  # Avoid compilation issues during loading\n",
        "    print(\"Model loaded successfully.\")\n",
        "except Exception as e:\n",
        "    print(f\"Error loading model: {e}\")\n",
        "\n",
        "# Load the saved LabelEncoder\n",
        "try:\n",
        "    with open(\"label_encoder.pkl\", \"rb\") as file:\n",
        "        label_encoder = pickle.load(file)\n",
        "    print(\"LabelEncoder loaded successfully.\")\n",
        "except Exception as e:\n",
        "    print(f\"Error loading LabelEncoder: {e}\")\n",
        "\n",
        "def preprocess_image(image_path, target_size=(224, 224)):\n",
        "    \"\"\"\n",
        "    Preprocess the input image for prediction.\n",
        "\n",
        "    Args:\n",
        "        image_path: Path to the input image.\n",
        "        target_size: Target size for resizing the image.\n",
        "\n",
        "    Returns:\n",
        "        Preprocessed image ready for prediction.\n",
        "    \"\"\"\n",
        "    try:\n",
        "        # Load the image\n",
        "        image = load_img(image_path, target_size=target_size)\n",
        "        # Convert the image to an array\n",
        "        image_array = img_to_array(image)\n",
        "        # Scale the pixel values\n",
        "        image_array = image_array / 255.0\n",
        "        # Expand dimensions to create batch size of 1\n",
        "        return np.expand_dims(image_array, axis=0)\n",
        "    except Exception as e:\n",
        "        print(f\"Error preprocessing image: {e}\")\n",
        "        return None\n",
        "\n",
        "def predict_image_class(image_path):\n",
        "    try:\n",
        "        preprocessed_image = preprocess_image(image_path)\n",
        "        if preprocessed_image is None:\n",
        "            return \"Image preprocessing failed.\"\n",
        "        # Predict the label\n",
        "        predictions = model.predict(preprocessed_image)\n",
        "        predicted_class = np.argmax(predictions, axis=1)[0]  # Get the class index\n",
        "        decoded_label = label_encoder.inverse_transform([predicted_class])[0]\n",
        "        print(f\"Predicted Class Index: {predicted_class}\")\n",
        "        return decoded_label\n",
        "    except Exception as e:\n",
        "        print(f\"Error predicting class: {e}\")\n",
        "        return \"Prediction failed.\"\n",
        "\n",
        "\n",
        "# Example usage\n",
        "image_path = \"/content/drive/MyDrive/Food detction/Indian Food Images/Indian Food Images/biryani/29ff2d4476.jpg\"\n",
        "predicted_class = predict_image_class(image_path)\n",
        "print(f\"Predicted Class: {predicted_class}\")\n"
      ]
    },
    {
      "cell_type": "code",
      "execution_count": 67,
      "metadata": {
        "colab": {
          "base_uri": "https://localhost:8080/",
          "height": 74
        },
        "id": "KaSJa6ooCsfe",
        "outputId": "89aef0e0-e625-4dc0-975f-3f2df730f761"
      },
      "outputs": [
        {
          "output_type": "display_data",
          "data": {
            "text/plain": [
              "<IPython.core.display.HTML object>"
            ],
            "text/html": [
              "\n",
              "     <input type=\"file\" id=\"files-57a8f27e-7eb8-4102-984e-77f6ec5f6fdf\" name=\"files[]\" multiple disabled\n",
              "        style=\"border:none\" />\n",
              "     <output id=\"result-57a8f27e-7eb8-4102-984e-77f6ec5f6fdf\">\n",
              "      Upload widget is only available when the cell has been executed in the\n",
              "      current browser session. Please rerun this cell to enable.\n",
              "      </output>\n",
              "      <script>// Copyright 2017 Google LLC\n",
              "//\n",
              "// Licensed under the Apache License, Version 2.0 (the \"License\");\n",
              "// you may not use this file except in compliance with the License.\n",
              "// You may obtain a copy of the License at\n",
              "//\n",
              "//      http://www.apache.org/licenses/LICENSE-2.0\n",
              "//\n",
              "// Unless required by applicable law or agreed to in writing, software\n",
              "// distributed under the License is distributed on an \"AS IS\" BASIS,\n",
              "// WITHOUT WARRANTIES OR CONDITIONS OF ANY KIND, either express or implied.\n",
              "// See the License for the specific language governing permissions and\n",
              "// limitations under the License.\n",
              "\n",
              "/**\n",
              " * @fileoverview Helpers for google.colab Python module.\n",
              " */\n",
              "(function(scope) {\n",
              "function span(text, styleAttributes = {}) {\n",
              "  const element = document.createElement('span');\n",
              "  element.textContent = text;\n",
              "  for (const key of Object.keys(styleAttributes)) {\n",
              "    element.style[key] = styleAttributes[key];\n",
              "  }\n",
              "  return element;\n",
              "}\n",
              "\n",
              "// Max number of bytes which will be uploaded at a time.\n",
              "const MAX_PAYLOAD_SIZE = 100 * 1024;\n",
              "\n",
              "function _uploadFiles(inputId, outputId) {\n",
              "  const steps = uploadFilesStep(inputId, outputId);\n",
              "  const outputElement = document.getElementById(outputId);\n",
              "  // Cache steps on the outputElement to make it available for the next call\n",
              "  // to uploadFilesContinue from Python.\n",
              "  outputElement.steps = steps;\n",
              "\n",
              "  return _uploadFilesContinue(outputId);\n",
              "}\n",
              "\n",
              "// This is roughly an async generator (not supported in the browser yet),\n",
              "// where there are multiple asynchronous steps and the Python side is going\n",
              "// to poll for completion of each step.\n",
              "// This uses a Promise to block the python side on completion of each step,\n",
              "// then passes the result of the previous step as the input to the next step.\n",
              "function _uploadFilesContinue(outputId) {\n",
              "  const outputElement = document.getElementById(outputId);\n",
              "  const steps = outputElement.steps;\n",
              "\n",
              "  const next = steps.next(outputElement.lastPromiseValue);\n",
              "  return Promise.resolve(next.value.promise).then((value) => {\n",
              "    // Cache the last promise value to make it available to the next\n",
              "    // step of the generator.\n",
              "    outputElement.lastPromiseValue = value;\n",
              "    return next.value.response;\n",
              "  });\n",
              "}\n",
              "\n",
              "/**\n",
              " * Generator function which is called between each async step of the upload\n",
              " * process.\n",
              " * @param {string} inputId Element ID of the input file picker element.\n",
              " * @param {string} outputId Element ID of the output display.\n",
              " * @return {!Iterable<!Object>} Iterable of next steps.\n",
              " */\n",
              "function* uploadFilesStep(inputId, outputId) {\n",
              "  const inputElement = document.getElementById(inputId);\n",
              "  inputElement.disabled = false;\n",
              "\n",
              "  const outputElement = document.getElementById(outputId);\n",
              "  outputElement.innerHTML = '';\n",
              "\n",
              "  const pickedPromise = new Promise((resolve) => {\n",
              "    inputElement.addEventListener('change', (e) => {\n",
              "      resolve(e.target.files);\n",
              "    });\n",
              "  });\n",
              "\n",
              "  const cancel = document.createElement('button');\n",
              "  inputElement.parentElement.appendChild(cancel);\n",
              "  cancel.textContent = 'Cancel upload';\n",
              "  const cancelPromise = new Promise((resolve) => {\n",
              "    cancel.onclick = () => {\n",
              "      resolve(null);\n",
              "    };\n",
              "  });\n",
              "\n",
              "  // Wait for the user to pick the files.\n",
              "  const files = yield {\n",
              "    promise: Promise.race([pickedPromise, cancelPromise]),\n",
              "    response: {\n",
              "      action: 'starting',\n",
              "    }\n",
              "  };\n",
              "\n",
              "  cancel.remove();\n",
              "\n",
              "  // Disable the input element since further picks are not allowed.\n",
              "  inputElement.disabled = true;\n",
              "\n",
              "  if (!files) {\n",
              "    return {\n",
              "      response: {\n",
              "        action: 'complete',\n",
              "      }\n",
              "    };\n",
              "  }\n",
              "\n",
              "  for (const file of files) {\n",
              "    const li = document.createElement('li');\n",
              "    li.append(span(file.name, {fontWeight: 'bold'}));\n",
              "    li.append(span(\n",
              "        `(${file.type || 'n/a'}) - ${file.size} bytes, ` +\n",
              "        `last modified: ${\n",
              "            file.lastModifiedDate ? file.lastModifiedDate.toLocaleDateString() :\n",
              "                                    'n/a'} - `));\n",
              "    const percent = span('0% done');\n",
              "    li.appendChild(percent);\n",
              "\n",
              "    outputElement.appendChild(li);\n",
              "\n",
              "    const fileDataPromise = new Promise((resolve) => {\n",
              "      const reader = new FileReader();\n",
              "      reader.onload = (e) => {\n",
              "        resolve(e.target.result);\n",
              "      };\n",
              "      reader.readAsArrayBuffer(file);\n",
              "    });\n",
              "    // Wait for the data to be ready.\n",
              "    let fileData = yield {\n",
              "      promise: fileDataPromise,\n",
              "      response: {\n",
              "        action: 'continue',\n",
              "      }\n",
              "    };\n",
              "\n",
              "    // Use a chunked sending to avoid message size limits. See b/62115660.\n",
              "    let position = 0;\n",
              "    do {\n",
              "      const length = Math.min(fileData.byteLength - position, MAX_PAYLOAD_SIZE);\n",
              "      const chunk = new Uint8Array(fileData, position, length);\n",
              "      position += length;\n",
              "\n",
              "      const base64 = btoa(String.fromCharCode.apply(null, chunk));\n",
              "      yield {\n",
              "        response: {\n",
              "          action: 'append',\n",
              "          file: file.name,\n",
              "          data: base64,\n",
              "        },\n",
              "      };\n",
              "\n",
              "      let percentDone = fileData.byteLength === 0 ?\n",
              "          100 :\n",
              "          Math.round((position / fileData.byteLength) * 100);\n",
              "      percent.textContent = `${percentDone}% done`;\n",
              "\n",
              "    } while (position < fileData.byteLength);\n",
              "  }\n",
              "\n",
              "  // All done.\n",
              "  yield {\n",
              "    response: {\n",
              "      action: 'complete',\n",
              "    }\n",
              "  };\n",
              "}\n",
              "\n",
              "scope.google = scope.google || {};\n",
              "scope.google.colab = scope.google.colab || {};\n",
              "scope.google.colab._files = {\n",
              "  _uploadFiles,\n",
              "  _uploadFilesContinue,\n",
              "};\n",
              "})(self);\n",
              "</script> "
            ]
          },
          "metadata": {}
        },
        {
          "output_type": "stream",
          "name": "stdout",
          "text": [
            "Saving scaler.pkl to scaler (2).pkl\n"
          ]
        }
      ],
      "source": [
        "# Load the scaler\n",
        "from google.colab import files\n",
        "uploaded = files.upload()\n",
        "\n",
        "with open(\"/content/drive/MyDrive/Food detction/scaler.pkl\", \"rb\") as scaler_file:\n",
        "    scaler = pickle.load(scaler_file)\n",
        "\n"
      ]
    },
    {
      "cell_type": "code",
      "execution_count": 68,
      "metadata": {
        "id": "eIMzrrpTCsfe"
      },
      "outputs": [],
      "source": [
        "import pickle\n",
        "\n",
        "# Load the provided Random Forest Regressor calorie model from the uploaded file\n",
        "model_path = '/content/drive/MyDrive/Food detction/calorie_prediction.pkl'\n",
        "with open(model_path, 'rb') as file:\n",
        "    calorie_model = pickle.load(file)\n",
        "\n",
        "# Function to get predictions from the loaded calorie model\n",
        "def predict_calories(total_fat, cholesterol, sodium, calcium, sugars, saturated_fat, serving_size, vitamin_c):\n",
        "\n",
        "    # Prepare the input as a DataFrame\n",
        "    input_data = pd.DataFrame([[\n",
        "        total_fat, cholesterol, sodium, calcium, sugars, saturated_fat, serving_size, vitamin_c\n",
        "    ]], columns=['total_fat', 'cholesterol', 'sodium', 'calcium',\n",
        "                 'sugars', 'saturated_fat', 'serving_size', 'vitamin_c'])\n",
        "\n",
        "\n",
        "    # Scale the features\n",
        "    input_scaled = scaler.transform(input_data)\n",
        "\n",
        "    # Predict using the model\n",
        "    predicted_calories = calorie_model.predict(input_scaled)\n",
        "\n",
        "    return predicted_calories[0]\n",
        "\n"
      ]
    },
    {
      "cell_type": "markdown",
      "metadata": {
        "id": "uzIBd6YTCsfe"
      },
      "source": [
        "Features used to train model and should be placed as arguments to get calories prediction\n",
        "\n",
        "\n",
        "['name', 'total_fat', 'cholesterol', 'sodium', 'calcium',\n",
        "          'sugars', 'saturated_fat', 'serving_size', 'vitamin_c']"
      ]
    },
    {
      "cell_type": "code",
      "execution_count": 69,
      "metadata": {
        "colab": {
          "base_uri": "https://localhost:8080/"
        },
        "id": "ZRm2mzlzCsfe",
        "outputId": "47ff1584-60e5-418e-cc5d-2fcf8083c9c5"
      },
      "outputs": [
        {
          "output_type": "stream",
          "name": "stdout",
          "text": [
            "Predicted Calories: 76.47\n"
          ]
        }
      ],
      "source": [
        "calorie_prediction = predict_calories(0.3, 0, 1, 5, 14, 0.1, 118, 8.7)\n",
        "print(f\"Predicted Calories: {calorie_prediction}\")"
      ]
    },
    {
      "cell_type": "code",
      "execution_count": 69,
      "metadata": {
        "id": "5ql29Yj7Csfe"
      },
      "outputs": [],
      "source": []
    }
  ],
  "metadata": {
    "kernelspec": {
      "display_name": "Python 3",
      "language": "python",
      "name": "python3"
    },
    "language_info": {
      "codemirror_mode": {
        "name": "ipython",
        "version": 3
      },
      "file_extension": ".py",
      "mimetype": "text/x-python",
      "name": "python",
      "nbconvert_exporter": "python",
      "pygments_lexer": "ipython3",
      "version": "3.12.3"
    },
    "colab": {
      "provenance": []
    }
  },
  "nbformat": 4,
  "nbformat_minor": 0
}